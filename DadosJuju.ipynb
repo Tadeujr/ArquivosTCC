{
  "cells": [
    {
      "cell_type": "code",
      "execution_count": null,
      "metadata": {
        "id": "LwLl2BkzN5n3"
      },
      "outputs": [],
      "source": [
        "import pandas as pd\n",
        "import datetime as datetime "
      ]
    },
    {
      "cell_type": "code",
      "execution_count": null,
      "metadata": {
        "id": "XPDmYsZwOKtB"
      },
      "outputs": [],
      "source": [
        "#col_names = [\"Message ID\", \"Channel\", \"Interaction\", \"Bot ID\",\n",
        "#             \"Bot name\",\"User\",\"Direction\",\"Message\",\"Extracted Data\",\n",
        "#             \"Archive\",\"Date\",\"Browser\",\"Is Mobile\",\"OS\",\"Country\"]\n",
        "#interaction = pd.read_csv('dadosChatbotJuju23.csv',sep=';',engine= 'python',parse_dates=['Date'])\n",
        "\n",
        "\n",
        "col_names = [\"Message ID\", \"Channel\", \"Interaction\", \"Bot ID\",\n",
        "             \"Bot name\",\"User\",\"Direction\",\"Message\",\"Extracted Data\",\n",
        "             \"Archive\",\"Date\",\"Browser\",\"Is Mobile\",\"OS\",\"Country\"]\n",
        "interaction = pd.read_csv('/content/drive/MyDrive/Chat bot Juju/dadosChatbotJuju.csv',sep=\";\",encoding=\"ISO-8859-1\")\n"
      ]
    },
    {
      "cell_type": "markdown",
      "metadata": {
        "id": "upApsGvo9Oph"
      },
      "source": [
        "Distinct Usuários"
      ]
    },
    {
      "cell_type": "code",
      "execution_count": null,
      "metadata": {
        "id": "9R2_71MzOWV-"
      },
      "outputs": [],
      "source": [
        "dtF = pd.DataFrame(interaction,columns=col_names)\n",
        "dfteste = interaction.loc[ :, 'User'::5]\n",
        "dfDistinct = dfteste.drop_duplicates(['User'])"
      ]
    },
    {
      "cell_type": "code",
      "execution_count": null,
      "metadata": {
        "colab": {
          "base_uri": "https://localhost:8080/",
          "height": 424
        },
        "id": "K-VJBd9IpwMQ",
        "outputId": "15ae20cc-e5a6-4863-bbc3-7dae40e2eeb0"
      },
      "outputs": [
        {
          "output_type": "execute_result",
          "data": {
            "text/plain": [
              "                                                     User                 Date\n",
              "0       guest9a4369f139946418a7ec8f82b131488362592d793...  2019-08-12 09:33:00\n",
              "35      guest5911a463fe765a1ec177d3b2a346841781453de5f...  2019-08-12 10:57:06\n",
              "36      guesta973ea77f960685b9968bfd2f62958852beda8bce...  2019-08-12 10:58:03\n",
              "40      guest3a17b2beedf8391e347ca72e78fe1c9c5e40c352d...  2019-08-12 11:00:53\n",
              "47      guest16851c5b35cef024c9cef7e8f89a844260d2c6112...  2019-08-12 11:01:55\n",
              "...                                                   ...                  ...\n",
              "248416  guest4076968ca246ce6c38b0cb0a5ca75fd6d8fd86416...  2020-12-07 11:13:09\n",
              "248429  guest6393bdad07c5a5e341845f0747b485fdf65ce29c7...  2020-12-07 12:51:43\n",
              "248485  guest308f82f98a246ebd4446bdaaf4a74552d512f6112...  2020-12-07 15:02:36\n",
              "248493  guest6c5194bf28918e7761f0efad49dfd5edc74b6a25e...  2020-12-07 15:29:17\n",
              "248494  guesta2d30d25186f0fe8499ec27a18a40b1abf2640bbf...  2020-12-07 16:05:23\n",
              "\n",
              "[70083 rows x 2 columns]"
            ],
            "text/html": [
              "\n",
              "  <div id=\"df-9fd16924-4765-4221-aca5-5fef96ee4fa2\">\n",
              "    <div class=\"colab-df-container\">\n",
              "      <div>\n",
              "<style scoped>\n",
              "    .dataframe tbody tr th:only-of-type {\n",
              "        vertical-align: middle;\n",
              "    }\n",
              "\n",
              "    .dataframe tbody tr th {\n",
              "        vertical-align: top;\n",
              "    }\n",
              "\n",
              "    .dataframe thead th {\n",
              "        text-align: right;\n",
              "    }\n",
              "</style>\n",
              "<table border=\"1\" class=\"dataframe\">\n",
              "  <thead>\n",
              "    <tr style=\"text-align: right;\">\n",
              "      <th></th>\n",
              "      <th>User</th>\n",
              "      <th>Date</th>\n",
              "    </tr>\n",
              "  </thead>\n",
              "  <tbody>\n",
              "    <tr>\n",
              "      <th>0</th>\n",
              "      <td>guest9a4369f139946418a7ec8f82b131488362592d793...</td>\n",
              "      <td>2019-08-12 09:33:00</td>\n",
              "    </tr>\n",
              "    <tr>\n",
              "      <th>35</th>\n",
              "      <td>guest5911a463fe765a1ec177d3b2a346841781453de5f...</td>\n",
              "      <td>2019-08-12 10:57:06</td>\n",
              "    </tr>\n",
              "    <tr>\n",
              "      <th>36</th>\n",
              "      <td>guesta973ea77f960685b9968bfd2f62958852beda8bce...</td>\n",
              "      <td>2019-08-12 10:58:03</td>\n",
              "    </tr>\n",
              "    <tr>\n",
              "      <th>40</th>\n",
              "      <td>guest3a17b2beedf8391e347ca72e78fe1c9c5e40c352d...</td>\n",
              "      <td>2019-08-12 11:00:53</td>\n",
              "    </tr>\n",
              "    <tr>\n",
              "      <th>47</th>\n",
              "      <td>guest16851c5b35cef024c9cef7e8f89a844260d2c6112...</td>\n",
              "      <td>2019-08-12 11:01:55</td>\n",
              "    </tr>\n",
              "    <tr>\n",
              "      <th>...</th>\n",
              "      <td>...</td>\n",
              "      <td>...</td>\n",
              "    </tr>\n",
              "    <tr>\n",
              "      <th>248416</th>\n",
              "      <td>guest4076968ca246ce6c38b0cb0a5ca75fd6d8fd86416...</td>\n",
              "      <td>2020-12-07 11:13:09</td>\n",
              "    </tr>\n",
              "    <tr>\n",
              "      <th>248429</th>\n",
              "      <td>guest6393bdad07c5a5e341845f0747b485fdf65ce29c7...</td>\n",
              "      <td>2020-12-07 12:51:43</td>\n",
              "    </tr>\n",
              "    <tr>\n",
              "      <th>248485</th>\n",
              "      <td>guest308f82f98a246ebd4446bdaaf4a74552d512f6112...</td>\n",
              "      <td>2020-12-07 15:02:36</td>\n",
              "    </tr>\n",
              "    <tr>\n",
              "      <th>248493</th>\n",
              "      <td>guest6c5194bf28918e7761f0efad49dfd5edc74b6a25e...</td>\n",
              "      <td>2020-12-07 15:29:17</td>\n",
              "    </tr>\n",
              "    <tr>\n",
              "      <th>248494</th>\n",
              "      <td>guesta2d30d25186f0fe8499ec27a18a40b1abf2640bbf...</td>\n",
              "      <td>2020-12-07 16:05:23</td>\n",
              "    </tr>\n",
              "  </tbody>\n",
              "</table>\n",
              "<p>70083 rows × 2 columns</p>\n",
              "</div>\n",
              "      <button class=\"colab-df-convert\" onclick=\"convertToInteractive('df-9fd16924-4765-4221-aca5-5fef96ee4fa2')\"\n",
              "              title=\"Convert this dataframe to an interactive table.\"\n",
              "              style=\"display:none;\">\n",
              "        \n",
              "  <svg xmlns=\"http://www.w3.org/2000/svg\" height=\"24px\"viewBox=\"0 0 24 24\"\n",
              "       width=\"24px\">\n",
              "    <path d=\"M0 0h24v24H0V0z\" fill=\"none\"/>\n",
              "    <path d=\"M18.56 5.44l.94 2.06.94-2.06 2.06-.94-2.06-.94-.94-2.06-.94 2.06-2.06.94zm-11 1L8.5 8.5l.94-2.06 2.06-.94-2.06-.94L8.5 2.5l-.94 2.06-2.06.94zm10 10l.94 2.06.94-2.06 2.06-.94-2.06-.94-.94-2.06-.94 2.06-2.06.94z\"/><path d=\"M17.41 7.96l-1.37-1.37c-.4-.4-.92-.59-1.43-.59-.52 0-1.04.2-1.43.59L10.3 9.45l-7.72 7.72c-.78.78-.78 2.05 0 2.83L4 21.41c.39.39.9.59 1.41.59.51 0 1.02-.2 1.41-.59l7.78-7.78 2.81-2.81c.8-.78.8-2.07 0-2.86zM5.41 20L4 18.59l7.72-7.72 1.47 1.35L5.41 20z\"/>\n",
              "  </svg>\n",
              "      </button>\n",
              "      \n",
              "  <style>\n",
              "    .colab-df-container {\n",
              "      display:flex;\n",
              "      flex-wrap:wrap;\n",
              "      gap: 12px;\n",
              "    }\n",
              "\n",
              "    .colab-df-convert {\n",
              "      background-color: #E8F0FE;\n",
              "      border: none;\n",
              "      border-radius: 50%;\n",
              "      cursor: pointer;\n",
              "      display: none;\n",
              "      fill: #1967D2;\n",
              "      height: 32px;\n",
              "      padding: 0 0 0 0;\n",
              "      width: 32px;\n",
              "    }\n",
              "\n",
              "    .colab-df-convert:hover {\n",
              "      background-color: #E2EBFA;\n",
              "      box-shadow: 0px 1px 2px rgba(60, 64, 67, 0.3), 0px 1px 3px 1px rgba(60, 64, 67, 0.15);\n",
              "      fill: #174EA6;\n",
              "    }\n",
              "\n",
              "    [theme=dark] .colab-df-convert {\n",
              "      background-color: #3B4455;\n",
              "      fill: #D2E3FC;\n",
              "    }\n",
              "\n",
              "    [theme=dark] .colab-df-convert:hover {\n",
              "      background-color: #434B5C;\n",
              "      box-shadow: 0px 1px 3px 1px rgba(0, 0, 0, 0.15);\n",
              "      filter: drop-shadow(0px 1px 2px rgba(0, 0, 0, 0.3));\n",
              "      fill: #FFFFFF;\n",
              "    }\n",
              "  </style>\n",
              "\n",
              "      <script>\n",
              "        const buttonEl =\n",
              "          document.querySelector('#df-9fd16924-4765-4221-aca5-5fef96ee4fa2 button.colab-df-convert');\n",
              "        buttonEl.style.display =\n",
              "          google.colab.kernel.accessAllowed ? 'block' : 'none';\n",
              "\n",
              "        async function convertToInteractive(key) {\n",
              "          const element = document.querySelector('#df-9fd16924-4765-4221-aca5-5fef96ee4fa2');\n",
              "          const dataTable =\n",
              "            await google.colab.kernel.invokeFunction('convertToInteractive',\n",
              "                                                     [key], {});\n",
              "          if (!dataTable) return;\n",
              "\n",
              "          const docLinkHtml = 'Like what you see? Visit the ' +\n",
              "            '<a target=\"_blank\" href=https://colab.research.google.com/notebooks/data_table.ipynb>data table notebook</a>'\n",
              "            + ' to learn more about interactive tables.';\n",
              "          element.innerHTML = '';\n",
              "          dataTable['output_type'] = 'display_data';\n",
              "          await google.colab.output.renderOutput(dataTable, element);\n",
              "          const docLink = document.createElement('div');\n",
              "          docLink.innerHTML = docLinkHtml;\n",
              "          element.appendChild(docLink);\n",
              "        }\n",
              "      </script>\n",
              "    </div>\n",
              "  </div>\n",
              "  "
            ]
          },
          "metadata": {},
          "execution_count": 6
        }
      ],
      "source": [
        "dfDistinct"
      ]
    },
    {
      "cell_type": "code",
      "execution_count": null,
      "metadata": {
        "id": "KVwZw7IVX-Mg"
      },
      "outputs": [],
      "source": [
        "#baseMes = dfDistinct.Date.astype(str)\n",
        "AcessosMes = pd.to_datetime(dfDistinct.Date.str.replace('/','-')).dt.strftime('%Y-%m')#baseMes.str.slice(start=3, stop=10, step=1)\n",
        "AcessosAno = pd.to_datetime(dfDistinct.Date.str.replace('/','-')).dt.strftime('%Y')# vou ter que remover < 08/2019\n",
        "\n",
        "#AcessosAno = pd.to_datetime(baseMes.str.slice(start=3, stop=11, step=1),format=\"%m/%Y\")\n",
        "#AcessosMes = pd.to_datetime(baseMes.str.slice(start=3, stop=11, step=1),format=\"%m/%Y\")\n",
        "\n"
      ]
    },
    {
      "cell_type": "code",
      "execution_count": null,
      "metadata": {
        "id": "_63yg2XJwDJ3"
      },
      "outputs": [],
      "source": [
        "#a = AcessosMes.convert_dtypes()"
      ]
    },
    {
      "cell_type": "code",
      "execution_count": null,
      "metadata": {
        "id": "b7cspkVKU--l"
      },
      "outputs": [],
      "source": [
        "#AcessosMes.min()"
      ]
    },
    {
      "cell_type": "code",
      "execution_count": null,
      "metadata": {
        "id": "SmeBB15zld9X"
      },
      "outputs": [],
      "source": [
        "DFDatesMes = pd.DataFrame(AcessosMes.sort_values())\n",
        "DFDatesAno = pd.DataFrame(AcessosAno.sort_values())\n"
      ]
    },
    {
      "cell_type": "code",
      "execution_count": null,
      "metadata": {
        "id": "yn6VhxEPmssm"
      },
      "outputs": [],
      "source": [
        "#Removendos dados referente a testes\n",
        "dfnot = DFDatesMes.loc[(DFDatesMes.Date < \"2019-08\")]\n",
        "DFDatesMes = DFDatesMes.drop(dfnot.index)\n"
      ]
    },
    {
      "cell_type": "code",
      "execution_count": null,
      "metadata": {
        "id": "i7biub1v8dth"
      },
      "outputs": [],
      "source": [
        "#DFDatesMes"
      ]
    },
    {
      "cell_type": "markdown",
      "metadata": {
        "id": "B8-JMdgWvbsh"
      },
      "source": [
        "Media de Acesso por Mês Agosto 2019 a dezembro 2020"
      ]
    },
    {
      "cell_type": "code",
      "execution_count": null,
      "metadata": {
        "colab": {
          "base_uri": "https://localhost:8080/",
          "height": 442
        },
        "id": "r6ifkwCYoYsg",
        "outputId": "cae8e583-64cc-4861-e209-c605834d8544"
      },
      "outputs": [
        {
          "output_type": "display_data",
          "data": {
            "text/plain": [
              "<Figure size 1080x504 with 1 Axes>"
            ],
            "image/png": "[encoded data removed]"
          },
          "metadata": {
            "needs_background": "light"
          }
        }
      ],
      "source": [
        "fig1 = DFDatesMes.groupby([\"Date\"]).Date.count().plot(kind='bar',label='Acesso',color = 'steelblue',figsize=(15,7),xlabel=\"Data(Ano/Mês)\", ylabel=\"Total de acesso\")#[-5].plot(kind='bar')\n",
        "fig1.xaxis.set_tick_params(rotation=360)\n",
        "fig1.figure.savefig('numAcessoMes.png')"
      ]
    },
    {
      "cell_type": "code",
      "execution_count": null,
      "metadata": {
        "colab": {
          "base_uri": "https://localhost:8080/",
          "height": 442
        },
        "id": "VSn94TmcrBHv",
        "outputId": "7dcd4e2a-c720-4f11-d0ac-c1a35ba9826f"
      },
      "outputs": [
        {
          "output_type": "display_data",
          "data": {
            "text/plain": [
              "<Figure size 1080x504 with 1 Axes>"
            ],
            "image/png": "[encoded data removed]"
          },
          "metadata": {
            "needs_background": "light"
          }
        }
      ],
      "source": [
        "filtroAno = DFDatesMes[((DFDatesMes.Date  >= \"2019-08\") & (DFDatesMes.Date  < \"2020-01\")) | (DFDatesMes.Date  >= \"2020-08\")]\n",
        "filtroAno = pd.DataFrame(filtroAno)\n",
        "filtroAno2 = filtroAno.Date.str.slice(start=0, stop=4, step=1)\n",
        "filtroAno2 = pd.DataFrame(filtroAno2)\n",
        "#filtroAno2 \n",
        "color = ['red','steelblue']\n",
        "fig2 = filtroAno2.groupby([\"Date\"]).Date.count().plot(kind='bar',label='Acesso',color=color,figsize=(15,7),xlabel=\"Ano\", ylabel=\"Acessos de Agosto à Dezembro\")\n",
        "fig2.xaxis.set_tick_params(rotation=360)\n",
        "fig2.figure.savefig('numAcessoAgosto.png') "
      ]
    },
    {
      "cell_type": "markdown",
      "source": [],
      "metadata": {
        "id": "kzd6sUwTZgt7"
      }
    },
    {
      "cell_type": "code",
      "execution_count": null,
      "metadata": {
        "colab": {
          "base_uri": "https://localhost:8080/",
          "height": 324
        },
        "id": "5jNdlVT5tQxH",
        "outputId": "c2633a93-2643-4039-94fc-f32272890cd7"
      },
      "outputs": [
        {
          "output_type": "display_data",
          "data": {
            "text/plain": [
              "<Figure size 720x360 with 1 Axes>"
            ],
            "image/png": "[encoded data removed]"
          },
          "metadata": {
            "needs_background": "light"
          }
        }
      ],
      "source": [
        "#filtroAnotodo = DFDatesMes[DFDatesMes.Date  >= \"2019-08\"]\n",
        "filtroAnotodo = pd.DataFrame(AcessosAno)\n",
        "filtroAnotodo2 = filtroAnotodo.Date.str.slice(start=0, stop=4, step=1)\n",
        "filtroAnotodo2 = pd.DataFrame(filtroAnotodo2)\n",
        "\n",
        "saida2 = int(filtroAnotodo2.count())\n",
        "a2 = saida2\n",
        "vetValor2 = {'Chatbot Juju':[a2],'Fale Conosco 2017/2018':[6879],'Fale Conosco 2019/2020':[8906]}\n",
        "df2 = pd.DataFrame(data=vetValor2,index=[''])\n",
        "color = ['red','green','steelblue']\n",
        "plotmaroto2 = df2.plot(kind='bar',color=color,figsize=(10,5),xlabel=\"Canal de atendimento\", ylabel=\"Número de acesso/solicitações por ano\")#.axes.get_xaxis().set_visible(False)\n",
        "plotmaroto2.xaxis.set_tick_params(rotation=360)"
      ]
    },
    {
      "cell_type": "code",
      "execution_count": null,
      "metadata": {
        "id": "Zwly0lg4zdKI"
      },
      "outputs": [],
      "source": [
        "plotmaroto2.figure.savefig('todos.png')"
      ]
    },
    {
      "cell_type": "code",
      "execution_count": null,
      "metadata": {
        "id": "2SocvmITRi4q"
      },
      "outputs": [],
      "source": [
        "dfs = dfteste.groupby(['User','Date']).User.count() + 1\n",
        "#print(dfs)"
      ]
    },
    {
      "cell_type": "markdown",
      "metadata": {
        "id": "WaHPV2rspWj0"
      },
      "source": [
        "ACESSO DO ANO DE Agosto de 2019 a dezembro"
      ]
    },
    {
      "cell_type": "code",
      "execution_count": null,
      "metadata": {
        "id": "DLpKZq1ezx4S"
      },
      "outputs": [],
      "source": [
        "#dfnot3 = DFDatesMes.loc[(DFDatesMes.Date > '2019-12')]\n",
        "#DFDatesMes3 = DFDatesMes.drop(dfnot3.index)\n",
        "#AcessosAno3 = AcessosMes.str.slice(start=0, stop=4, step=1)# vou ter que remover < 08/2019\n",
        "#DFDatesMes3 = DFDatesMes3.Date.str.slice(start=0, stop=4, step=1)\n",
        "#DFDatesAno3 = pd.DataFrame(DFDatesMes3)\n",
        "#ax = DFDatesAno2.groupby([\"Date\"]).Date.count().plot(kind='barh',color='red',legend=True)\n",
        "#DFDatesAno3.groupby([\"Date\"]).Date.count().plot(kind='barh',legend=True).legend(labels=[\"2020 - 1663 acessos\",\"2019 - 1584 acessos\"], title = \"Nº de Acessos\").axes.get_yaxis().set_visible(False)\n",
        "#DFDatesAno.groupby([\"Date\"]).Date.count().plot(kind='barh',label='Acesso',ax=ax) \n",
        "#DFDatesAno3.count()"
      ]
    },
    {
      "cell_type": "code",
      "execution_count": null,
      "metadata": {
        "colab": {
          "base_uri": "https://localhost:8080/",
          "height": 597
        },
        "id": "7-UzH9W0UPbb",
        "outputId": "b237b187-5a42-4e05-fbd7-59e23252c3d9"
      },
      "outputs": [
        {
          "output_type": "display_data",
          "data": {
            "text/plain": [
              "<Figure size 1440x720 with 1 Axes>"
            ],
            "image/png": "[encoded data removed]"
          },
          "metadata": {
            "needs_background": "light"
          }
        }
      ],
      "source": [
        "dfs = dfteste.groupby(['User','Date']).User.count() + 1\n",
        "dfs2 = dfs.sort_values()\n",
        "fig3 = dfs2.plot(kind='bar',title='Número interações por usuário',color = 'steelblue',figsize=(20,10)).axes.get_xaxis().set_visible(False)\n",
        "\n"
      ]
    },
    {
      "cell_type": "code",
      "execution_count": null,
      "metadata": {
        "id": "MccFBxf3BNWA"
      },
      "outputs": [],
      "source": [
        "dfs = dfteste.groupby(['User','Date']).User.count() + 1\n",
        "dfs2 = dfs.sort_values()\n",
        "fig3 = dfs2.plot(kind='bar',color = 'steelblue',figsize=(20,10),xlabel=\"Usuário\", ylabel=\"Interações com o chatbot\")"
      ]
    },
    {
      "cell_type": "code",
      "execution_count": null,
      "metadata": {
        "id": "pHeqSfnzTJP-"
      },
      "outputs": [],
      "source": [
        "dfs = dfteste.groupby(['User','Date']).User.count() + 1\n",
        "dfs.max()\n",
        "dfs.min()\n"
      ]
    },
    {
      "cell_type": "code",
      "execution_count": null,
      "metadata": {
        "id": "KU9YOIvihtxV"
      },
      "outputs": [],
      "source": [
        "\n",
        "fig3.figure.savefig('numInteracoes.png')"
      ]
    },
    {
      "cell_type": "code",
      "execution_count": null,
      "metadata": {
        "id": "FhfhI9zec2-F"
      },
      "outputs": [],
      "source": [
        "dfc = (dfteste.groupby(['User','Date']).User.count()+1).reset_index(name=\"Time\")\n"
      ]
    },
    {
      "cell_type": "code",
      "execution_count": null,
      "metadata": {
        "id": "5G2CsFhBTjWC"
      },
      "outputs": [],
      "source": [
        "vetNum = []\n",
        "cont1 = 0\n",
        "cont2 = 0\n",
        "cont3 = 0\n",
        "cont4 = 0\n",
        "cont5 = 0\n",
        "cont6 = 0\n",
        "cont7 = 0\n",
        "cont8 = 0\n",
        "cont9 = 0\n",
        "cont10 = 0\n",
        "cont11 = 0\n",
        "cont12 = 0\n",
        "cont13 = 0\n",
        "cont14 = 0\n",
        "cont15 = 0\n",
        "cont16 = 0\n",
        "cont17 = 0\n",
        "cont18 = 0\n",
        "\n",
        "\n",
        "for i in dfc.Time:\n",
        "  if(i==1):\n",
        "    cont1 += 1\n",
        "  if(i==2):\n",
        "    cont2 += 1\n",
        "  if(i==3):\n",
        "    cont3 += 1   \n",
        "  if(i==4):\n",
        "    cont4 += 1\n",
        "  if(i==5):\n",
        "    cont5 += 1\n",
        "  if(i==6):\n",
        "    cont6 += 1\n",
        "  if(i==7):\n",
        "    cont7 += 1\n",
        "  if(i==8):\n",
        "    cont8 += 1\n",
        "  if(i==9):\n",
        "    cont9 += 1\n",
        "  if(i==10):\n",
        "    cont10 += 1\n",
        "  if(i==11):\n",
        "    cont11 += 1\n",
        "  if(i==12):\n",
        "    cont12 += 1\n",
        "  if(i==13):\n",
        "    cont13 += 1\n",
        "  if(i==14):\n",
        "    cont14 += 1\n",
        "  if(i==15):\n",
        "    cont15 += 1\n",
        "  if(i==16):\n",
        "    cont16 += 1\n",
        "  if(i==17):\n",
        "    cont17 += 1\n",
        "  if(i==18):\n",
        "    cont18 += 1    \n",
        "                                   "
      ]
    },
    {
      "cell_type": "code",
      "execution_count": null,
      "metadata": {
        "id": "FHgGK2aqU_p4"
      },
      "outputs": [],
      "source": [
        "print(cont1,cont2,cont3, \n",
        "cont4 ,\n",
        "cont5 ,\n",
        "cont6,\n",
        "cont7 ,\n",
        "cont8 ,\n",
        "cont9 ,\n",
        "cont10,\n",
        "cont11 ,\n",
        "cont12 ,\n",
        "cont13,\n",
        "cont14 ,\n",
        "cont15 ,\n",
        "cont16,\n",
        "cont17,\n",
        "cont18 )\n"
      ]
    },
    {
      "cell_type": "code",
      "execution_count": null,
      "metadata": {
        "id": "YpEdPJSOXo9f"
      },
      "outputs": [],
      "source": [
        "vetinter = [  \n",
        "cont3, \n",
        "cont4 ,\n",
        "cont5 ,\n",
        "cont6 ,\n",
        " cont7 ,\n",
        "cont8 ,\n",
        "cont9 ,\n",
        "cont10,\n",
        "cont11 ,\n",
        "cont12 ,\n",
        "cont13,\n",
        "cont14 ,\n",
        "cont15 ,\n",
        "cont16,\n",
        "cont17,\n",
        "cont18]\n",
        "\n",
        "a = [0, 5917, 5441, 3945, 3198, 1826, 1178, 654, 432, 214, 100, 53, 23, 6, 4, 2, 2,2]\n",
        "b = [3,4,5,6,7,8,9,10,11,12,13,14,15,16,17,18]\n",
        "#pd.DataFrame(lst, columns = ['Name'])\n",
        "\n",
        "dfInteraa = pd.DataFrame(data=a,columns=[''])\n",
        "dfInterab = pd.DataFrame(data=b,columns=[''])"
      ]
    },
    {
      "cell_type": "code",
      "execution_count": null,
      "metadata": {
        "id": "6ekC560IaSpu"
      },
      "outputs": [],
      "source": [
        "vetinter = {\n",
        "'3 interações': cont3, \n",
        "'4 interações': cont4 ,\n",
        "'5 interações': cont5 ,\n",
        "'6 interações': cont6 ,\n",
        "'7 interações': cont7 ,\n",
        "'8 interações': cont8 ,\n",
        "'9 interações': cont9 ,\n",
        "'10 interações': cont10,\n",
        "'11 interações': cont11 ,\n",
        "'12 interações': cont12 ,\n",
        "'13 interações': cont13,\n",
        "'14 interações': cont14 ,\n",
        "'15 interações': cont15 ,\n",
        "'16 interações': cont16,\n",
        "'17 interações': cont17,\n",
        "'18 interações': cont18}\n",
        "\n",
        "dfIntera = pd.DataFrame(data=vetinter,index=[''])"
      ]
    },
    {
      "cell_type": "code",
      "execution_count": null,
      "metadata": {
        "id": "JbbIloXlY3ke"
      },
      "outputs": [],
      "source": [
        "#color = ['red','green','steelblue']\n",
        "#plotmaroto = dfIntera.plot(kind='bar',figsize=(10,6), xlabel=\"Quantidade de interações por usuários\", ylabel=\" Eixo y\")#.axes.get_xaxis().set_visible(False)\n",
        "#plotmaroto.axes.get_xaxis().set_visible(False)\n",
        "#plotmaroto.figure.savefig('numInteracoesporcores.png')"
      ]
    },
    {
      "cell_type": "code",
      "execution_count": null,
      "metadata": {
        "id": "JiDpLDIMYQf3"
      },
      "outputs": [],
      "source": [
        "#color = ['red','green','steelblue']\n",
        "#plotmaroto = dfIntera.plot(kind='bar',title='Quantidade de interações',figsize=(10,5))#.axes.get_xaxis().set_visible(False)\n",
        "#plotmaroto.figure.savefig('numInteracoesporcores.png')"
      ]
    },
    {
      "cell_type": "code",
      "execution_count": null,
      "metadata": {
        "id": "qDe_DSzwYd9v"
      },
      "outputs": [],
      "source": [
        "h = dfteste.drop_duplicates(['User'])"
      ]
    },
    {
      "cell_type": "code",
      "execution_count": null,
      "metadata": {
        "id": "1LK74cFqpY_b"
      },
      "outputs": [],
      "source": [
        "usuario = dfc.groupby(['User','Date']).User.count()"
      ]
    },
    {
      "cell_type": "code",
      "execution_count": null,
      "metadata": {
        "id": "Lwr2oHYypaBj"
      },
      "outputs": [],
      "source": [
        "usuario.count()"
      ]
    },
    {
      "cell_type": "code",
      "execution_count": null,
      "metadata": {
        "id": "z5M5R5IZqBhy"
      },
      "outputs": [],
      "source": [
        "a = DFDatesMes[(DFDatesMes.Date  <= \"2020-12\") & (DFDatesMes.Date  >= \"2020-08\")]"
      ]
    },
    {
      "cell_type": "code",
      "execution_count": null,
      "metadata": {
        "id": "wkIEdnpgsHeO"
      },
      "outputs": [],
      "source": [
        "a.count()\n"
      ]
    },
    {
      "cell_type": "markdown",
      "metadata": {
        "id": "8C6tSLuXQ8bM"
      },
      "source": [
        "Covid\n"
      ]
    },
    {
      "cell_type": "code",
      "execution_count": null,
      "metadata": {
        "id": "EcVzB6jWRBa1"
      },
      "outputs": [],
      "source": [
        "filtrocovid  = DFDatesMes[DFDatesMes.Date  >= \"2020-04\"]\n",
        "filtrocovid = pd.DataFrame(filtrocovid)\n",
        "filtrocovid2  = filtrocovid .Date.str.slice(start=0, stop=4, step=1)\n",
        "filtrocovid2  = pd.DataFrame(filtrocovid2)\n",
        "\n",
        "saida3 = int(filtrocovid2.count())\n",
        "a3 = saida3\n",
        "vetValor3 = {'Chatbot Juju 2019/2020':[a3],'Fale Conosco 2019':[5512],'Fale Conosco 2020':[5713]}\n",
        "df3 = pd.DataFrame(data=vetValor3,index=[''])\n",
        "color = ['red','green','steelblue']\n",
        "plotmaroto3 = df3.plot(kind='bar',color=color,figsize=(10,5),xlabel=\"Canal de atendimimento\", ylabel=\"Número Acesso por ano\")#.axes.get_xaxis().set_visible(False)\n"
      ]
    },
    {
      "cell_type": "code",
      "execution_count": null,
      "metadata": {
        "id": "Ix8cTqO8Skmd"
      },
      "outputs": [],
      "source": [
        "plotmaroto3.figure.savefig('todosAcessoCovid.png')"
      ]
    },
    {
      "cell_type": "code",
      "execution_count": null,
      "metadata": {
        "id": "RKKEtGTyZUmI"
      },
      "outputs": [],
      "source": [
        "import matplotlib.pyplot as plt\n",
        "grupos = ['3',\n",
        "'4',\n",
        "'5',\n",
        "'6',\n",
        "'7',\n",
        "'8',\n",
        "'9',\n",
        "'10',\n",
        "'11',\n",
        "'12',\n",
        "'13',\n",
        "'14',\n",
        "'15',\n",
        "'16',\n",
        "'17',\n",
        "'18']\n",
        "valores = [5917, 5441, 3945, 3198, 1826, 1178, 654, 432, 214, 100, 53, 23, 6, 4, 2, 2]\n",
        "\n",
        "plt.bar(grupos,valores)\n",
        "plt.ylabel('Quantidade de interações')\n",
        "plt.xlabel('Interações por usuários')\n",
        "plt.savefig('numInteracoesporcores.png')\n",
        "plt.show()"
      ]
    },
    {
      "cell_type": "code",
      "execution_count": null,
      "metadata": {
        "id": "gQbupPDCq6Gb"
      },
      "outputs": [],
      "source": []
    }
  ],
  "metadata": {
    "colab": {
      "provenance": []
    },
    "kernelspec": {
      "display_name": "Python 3",
      "name": "python3"
    },
    "language_info": {
      "name": "python"
    }
  },
  "nbformat": 4,
  "nbformat_minor": 0
}